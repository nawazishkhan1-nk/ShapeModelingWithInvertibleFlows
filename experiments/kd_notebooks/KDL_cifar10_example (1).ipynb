{
  "nbformat": 4,
  "nbformat_minor": 0,
  "metadata": {
    "colab": {
      "provenance": []
    },
    "kernelspec": {
      "name": "python3",
      "display_name": "Python 3"
    },
    "language_info": {
      "name": "python"
    }
  },
  "cells": [
    {
      "cell_type": "code",
      "execution_count": null,
      "metadata": {
        "colab": {
          "base_uri": "https://localhost:8080/"
        },
        "id": "z6w1iIUT2-Ym",
        "outputId": "00285eaa-986b-42ed-b07b-036bc70a5bb8"
      },
      "outputs": [
        {
          "output_type": "stream",
          "name": "stdout",
          "text": [
            "2.9.2\n"
          ]
        }
      ],
      "source": [
        "import tensorflow as tf  \n",
        " \n",
        "# Display the version\n",
        "print(tf.__version__)    \n",
        " \n",
        "# other imports\n",
        "import numpy as np\n",
        "import matplotlib.pyplot as plt\n",
        "from tensorflow.keras.layers import Input, Conv2D, Dense, Flatten, Dropout\n",
        "from tensorflow.keras.layers import GlobalMaxPooling2D, MaxPooling2D\n",
        "from tensorflow.keras.layers import BatchNormalization, Reshape, Add\n",
        "from tensorflow.keras.layers import Layer, Softmax, ReLU\n",
        "from tensorflow.keras.models import Model\n",
        "\n",
        "# import KDL\n",
        "#from KDLayers import *"
      ]
    },
    {
      "cell_type": "code",
      "source": [
        "class KDRightLayer(Layer):\n",
        "  def __init__(self,n,activation=None,init_factor=0.05):\n",
        "    super(KDRightLayer, self).__init__()\n",
        "    self.n = n\n",
        "    self.activation = tf.keras.activations.get(activation)\n",
        "    self.init_factor = init_factor\n",
        "\n",
        "  def build(self, input_shape):\n",
        "    self.q = input_shape[1]\n",
        "    self.m = input_shape[2]\n",
        "    # initialize the weights\n",
        "    w_init = tf.random_normal_initializer(stddev=self.init_factor)\n",
        "    self.w = tf.Variable(name=\"kernel\", initial_value=w_init(shape=(self.m, self.n),\n",
        "                         dtype='float32'),trainable=True)\n",
        "    # initialize the biases\n",
        "    b_init = tf.zeros_initializer()\n",
        "    self.b = tf.Variable(name=\"bias\",initial_value=b_init(shape=(self.q,self.n), dtype='float32'),\n",
        "                         trainable=True)\n",
        "\n",
        "  def call(self, inputs):\n",
        "    return self.activation(tf.matmul(inputs, self.w) + self.b)"
      ],
      "metadata": {
        "id": "qg_hTICm3KBV"
      },
      "execution_count": null,
      "outputs": []
    },
    {
      "cell_type": "code",
      "source": [
        "class KDLeftLayer(Layer):\n",
        "  def __init__(self,m,activation=None,init_factor=0.05):\n",
        "    super(KDLeftLayer, self).__init__()\n",
        "    self.m = m\n",
        "    self.activation = tf.keras.activations.get(activation)\n",
        "    self.init_factor = init_factor\n",
        "\n",
        "  def build(self, input_shape):\n",
        "    self.n = input_shape[1]\n",
        "    self.p = input_shape[2]\n",
        "    # initialize the weights\n",
        "    w_init = tf.random_normal_initializer(stddev=self.init_factor)\n",
        "    self.w = tf.Variable(name=\"kernel\", initial_value=w_init(shape=(self.m, self.n),\n",
        "                                                             dtype='float32'),trainable=True)\n",
        "    # initialize the biases\n",
        "    b_init = tf.zeros_initializer()\n",
        "    self.b = tf.Variable(name=\"bias\",initial_value=b_init(shape=(self.m,self.p), \n",
        "                                                          dtype='float32'),trainable=True)\n",
        "\n",
        "  def call(self, inputs):\n",
        "    # return self.activation(tf.matmul(self.w,inputs) + self.b) # doesn't work with SGD unless batch size = 1\n",
        "    # (inputs^T * self.w^T)^T = self.w * inputs\n",
        "    return self.activation(tf.transpose(tf.matmul(tf.transpose(inputs,perm=[0, 2, 1]),\n",
        "                                                  tf.transpose(self.w)),perm=[0, 2, 1]) + self.b)"
      ],
      "metadata": {
        "id": "Q5KfFOPR3cnR"
      },
      "execution_count": null,
      "outputs": []
    },
    {
      "cell_type": "code",
      "source": [
        "# Load cifar10\n",
        "cifar10 = tf.keras.datasets.cifar10\n",
        "\n",
        "(x_train, y_train), (x_test, y_test) = cifar10.load_data()"
      ],
      "metadata": {
        "id": "d8sb-62E3_tR"
      },
      "execution_count": null,
      "outputs": []
    },
    {
      "cell_type": "code",
      "source": [
        "# Normalize\n",
        "x_train, x_test = x_train / 255.0, x_test / 255.0\n",
        " \n",
        "# Flatten the label values\n",
        "y_train, y_test = y_train.flatten(), y_test.flatten()"
      ],
      "metadata": {
        "id": "r1IsjWIZ4b58"
      },
      "execution_count": null,
      "outputs": []
    },
    {
      "cell_type": "code",
      "source": [
        "# Build the KDL model using the functional API\n",
        "# input layer\n",
        "i = Input(shape=x_train[0].shape)\n",
        "\n",
        "# Convolution Layers\n",
        "x = Conv2D(16, (3, 3), activation='relu', padding='same')(i)\n",
        "x = MaxPooling2D((2, 2))(x)\n",
        "\n",
        "x = Conv2D(64, (3, 3), activation='relu', padding='same')(x)\n",
        "x = MaxPooling2D((2, 2))(x)\n",
        "\n",
        "x = Conv2D(256, (3, 3), activation='relu', padding='same')(x)\n",
        "x = MaxPooling2D((2, 2))(x)\n",
        "\n",
        "# Dropout\n",
        "x = Dropout(0.2)(x)\n",
        "x = Reshape((64,64))(x)\n",
        " \n",
        "# KDL layers\n",
        "x = KDLeftLayer(64, activation='relu')(x)\n",
        "x = KDRightLayer(64, activation='relu')(x)\n",
        "\n",
        "x = KDLeftLayer(64, activation='relu')(x)\n",
        "x = KDRightLayer(64, activation='relu')(x)\n",
        " \n",
        "# Another set of KDL layers for output\n",
        "x = KDLeftLayer(2, activation='relu')(x)\n",
        "x = KDRightLayer(5)(x)\n",
        "x = Flatten()(x)\n",
        "x = Softmax()(x)\n",
        "\n",
        "# Build model\n",
        "model = Model(i, x)\n",
        " \n",
        "# Model summary\n",
        "model.summary()"
      ],
      "metadata": {
        "colab": {
          "base_uri": "https://localhost:8080/"
        },
        "id": "CHAzXU2R4u4Z",
        "outputId": "a9b8f49c-0c55-42aa-902b-6164d20542f8"
      },
      "execution_count": null,
      "outputs": [
        {
          "output_type": "stream",
          "name": "stdout",
          "text": [
            "Model: \"model_1\"\n",
            "_________________________________________________________________\n",
            " Layer (type)                Output Shape              Param #   \n",
            "=================================================================\n",
            " input_10 (InputLayer)       [(None, 32, 32, 3)]       0         \n",
            "                                                                 \n",
            " conv2d_27 (Conv2D)          (None, 32, 32, 16)        448       \n",
            "                                                                 \n",
            " max_pooling2d_27 (MaxPoolin  (None, 16, 16, 16)       0         \n",
            " g2D)                                                            \n",
            "                                                                 \n",
            " conv2d_28 (Conv2D)          (None, 16, 16, 64)        9280      \n",
            "                                                                 \n",
            " max_pooling2d_28 (MaxPoolin  (None, 8, 8, 64)         0         \n",
            " g2D)                                                            \n",
            "                                                                 \n",
            " conv2d_29 (Conv2D)          (None, 8, 8, 256)         147712    \n",
            "                                                                 \n",
            " max_pooling2d_29 (MaxPoolin  (None, 4, 4, 256)        0         \n",
            " g2D)                                                            \n",
            "                                                                 \n",
            " dropout_9 (Dropout)         (None, 4, 4, 256)         0         \n",
            "                                                                 \n",
            " reshape_9 (Reshape)         (None, 64, 64)            0         \n",
            "                                                                 \n",
            " kd_left_layer_11 (KDLeftLay  (None, 64, 64)           8192      \n",
            " er)                                                             \n",
            "                                                                 \n",
            " kd_right_layer_11 (KDRightL  (None, 64, 64)           8192      \n",
            " ayer)                                                           \n",
            "                                                                 \n",
            " kd_left_layer_12 (KDLeftLay  (None, 64, 64)           8192      \n",
            " er)                                                             \n",
            "                                                                 \n",
            " kd_right_layer_12 (KDRightL  (None, 64, 64)           8192      \n",
            " ayer)                                                           \n",
            "                                                                 \n",
            " kd_left_layer_13 (KDLeftLay  (None, 2, 64)            256       \n",
            " er)                                                             \n",
            "                                                                 \n",
            " kd_right_layer_13 (KDRightL  (None, 2, 5)             330       \n",
            " ayer)                                                           \n",
            "                                                                 \n",
            " flatten_1 (Flatten)         (None, 10)                0         \n",
            "                                                                 \n",
            " softmax_1 (Softmax)         (None, 10)                0         \n",
            "                                                                 \n",
            "=================================================================\n",
            "Total params: 190,794\n",
            "Trainable params: 190,794\n",
            "Non-trainable params: 0\n",
            "_________________________________________________________________\n"
          ]
        }
      ]
    },
    {
      "cell_type": "code",
      "source": [
        "# Compile with learning rate 0.005\n",
        "model.compile(optimizer=tf.keras.optimizers.Adam(learning_rate=1e-3),\n",
        "              loss='sparse_categorical_crossentropy',metrics=['accuracy'])"
      ],
      "metadata": {
        "id": "2GlGNYBc5yFI"
      },
      "execution_count": null,
      "outputs": []
    },
    {
      "cell_type": "code",
      "source": [
        "# Training\n",
        "hist_KDL = model.fit(x_train, y_train, batch_size=128, validation_data=(x_test, y_test), epochs=20)"
      ],
      "metadata": {
        "colab": {
          "base_uri": "https://localhost:8080/"
        },
        "id": "1hqgm4TA7Ju_",
        "outputId": "34c6e7c4-7be1-4173-d34f-1bde10c73861"
      },
      "execution_count": null,
      "outputs": [
        {
          "output_type": "stream",
          "name": "stdout",
          "text": [
            "Epoch 1/20\n",
            "391/391 [==============================] - 162s 411ms/step - loss: 1.9341 - accuracy: 0.2770 - val_loss: 1.5086 - val_accuracy: 0.4403\n",
            "Epoch 2/20\n",
            "391/391 [==============================] - 159s 406ms/step - loss: 1.4287 - accuracy: 0.4805 - val_loss: 1.2825 - val_accuracy: 0.5312\n",
            "Epoch 3/20\n",
            "391/391 [==============================] - 157s 402ms/step - loss: 1.2234 - accuracy: 0.5598 - val_loss: 1.1397 - val_accuracy: 0.5971\n",
            "Epoch 4/20\n",
            "391/391 [==============================] - 159s 408ms/step - loss: 1.0847 - accuracy: 0.6148 - val_loss: 1.0974 - val_accuracy: 0.6080\n",
            "Epoch 5/20\n",
            "391/391 [==============================] - 163s 417ms/step - loss: 0.9815 - accuracy: 0.6526 - val_loss: 0.9261 - val_accuracy: 0.6769\n",
            "Epoch 6/20\n",
            "391/391 [==============================] - 165s 423ms/step - loss: 0.8978 - accuracy: 0.6855 - val_loss: 0.9070 - val_accuracy: 0.6780\n",
            "Epoch 7/20\n",
            "391/391 [==============================] - 165s 422ms/step - loss: 0.8384 - accuracy: 0.7064 - val_loss: 0.8380 - val_accuracy: 0.7058\n",
            "Epoch 8/20\n",
            "391/391 [==============================] - 174s 446ms/step - loss: 0.7814 - accuracy: 0.7266 - val_loss: 0.8212 - val_accuracy: 0.7141\n",
            "Epoch 9/20\n",
            "391/391 [==============================] - 164s 420ms/step - loss: 0.7303 - accuracy: 0.7455 - val_loss: 0.8063 - val_accuracy: 0.7196\n",
            "Epoch 10/20\n",
            "391/391 [==============================] - 175s 449ms/step - loss: 0.6800 - accuracy: 0.7624 - val_loss: 0.7571 - val_accuracy: 0.7383\n",
            "Epoch 11/20\n",
            "391/391 [==============================] - 169s 431ms/step - loss: 0.6444 - accuracy: 0.7754 - val_loss: 0.7706 - val_accuracy: 0.7294\n",
            "Epoch 12/20\n",
            "391/391 [==============================] - 161s 413ms/step - loss: 0.5996 - accuracy: 0.7900 - val_loss: 0.7743 - val_accuracy: 0.7350\n",
            "Epoch 13/20\n",
            "391/391 [==============================] - 154s 394ms/step - loss: 0.5792 - accuracy: 0.7969 - val_loss: 0.7659 - val_accuracy: 0.7376\n",
            "Epoch 14/20\n",
            "391/391 [==============================] - 154s 395ms/step - loss: 0.5394 - accuracy: 0.8124 - val_loss: 0.7356 - val_accuracy: 0.7496\n",
            "Epoch 15/20\n",
            "391/391 [==============================] - 156s 399ms/step - loss: 0.5166 - accuracy: 0.8198 - val_loss: 0.7481 - val_accuracy: 0.7491\n",
            "Epoch 16/20\n",
            "391/391 [==============================] - 155s 395ms/step - loss: 0.4874 - accuracy: 0.8295 - val_loss: 0.7347 - val_accuracy: 0.7511\n",
            "Epoch 17/20\n",
            "391/391 [==============================] - 153s 391ms/step - loss: 0.4657 - accuracy: 0.8365 - val_loss: 0.7469 - val_accuracy: 0.7541\n",
            "Epoch 18/20\n",
            "391/391 [==============================] - 150s 383ms/step - loss: 0.4413 - accuracy: 0.8449 - val_loss: 0.8022 - val_accuracy: 0.7477\n",
            "Epoch 19/20\n",
            "391/391 [==============================] - 148s 379ms/step - loss: 0.4252 - accuracy: 0.8487 - val_loss: 0.7740 - val_accuracy: 0.7540\n",
            "Epoch 20/20\n",
            "391/391 [==============================] - 150s 383ms/step - loss: 0.3994 - accuracy: 0.8597 - val_loss: 0.7749 - val_accuracy: 0.7538\n"
          ]
        }
      ]
    },
    {
      "cell_type": "code",
      "source": [
        "# Plot training and test accuracy\n",
        "plt.style.use('seaborn')\n",
        "plt.plot(hist_KDL.history['accuracy'], label='train_acc', color='C0')\n",
        "plt.plot(hist_KDL.history['val_accuracy'], label='test_acc', color='C1')\n",
        "plt.legend()"
      ],
      "metadata": {
        "colab": {
          "base_uri": "https://localhost:8080/",
          "height": 365
        },
        "id": "ASVkUaSD7j-z",
        "outputId": "71169da0-80e0-4dc0-8ed2-393580e3c661"
      },
      "execution_count": null,
      "outputs": [
        {
          "output_type": "execute_result",
          "data": {
            "text/plain": [
              "<matplotlib.legend.Legend at 0x7f36406b5410>"
            ]
          },
          "metadata": {},
          "execution_count": 65
        },
        {
          "output_type": "display_data",
          "data": {
            "text/plain": [
              "<Figure size 576x396 with 1 Axes>"
            ],
            "image/png": "[encoded data removed]"
          },
          "metadata": {}
        }
      ]
    },
    {
      "cell_type": "code",
      "source": [
        "# Build the dense model using the functional API\n",
        "# input layer\n",
        "i = Input(shape=x_train[0].shape)\n",
        "\n",
        "# Convolution Layer\n",
        "x = Conv2D(16, (3, 3), activation='relu', padding='same')(i)\n",
        "x = MaxPooling2D((2, 2))(x)\n",
        "\n",
        "x = Conv2D(64, (3, 3), activation='relu', padding='same')(x)\n",
        "x = MaxPooling2D((2, 2))(x)\n",
        "\n",
        "x = Conv2D(256, (3, 3), activation='relu', padding='same')(x)\n",
        "x = MaxPooling2D((2, 2))(x)\n",
        "\n",
        "# Dropout Layer\n",
        "x = Dropout(0.2)(x)\n",
        "x = Flatten()(x)\n",
        " \n",
        "# Dense layers\n",
        "x = Dense(4096, activation='relu')(x)\n",
        "\n",
        "x = Dense(4096, activation='relu')(x)\n",
        " \n",
        "# For output\n",
        "x = Dense(10, activation='softmax')(x)\n",
        "\n",
        "# Build model\n",
        "model = Model(i, x)\n",
        " \n",
        "# model summary\n",
        "model.summary()"
      ],
      "metadata": {
        "colab": {
          "base_uri": "https://localhost:8080/"
        },
        "id": "upTkSQJi8Nor",
        "outputId": "85249ce6-72ef-41ef-f8c0-4bd3d3969dbb"
      },
      "execution_count": null,
      "outputs": [
        {
          "output_type": "stream",
          "name": "stdout",
          "text": [
            "Model: \"model_2\"\n",
            "_________________________________________________________________\n",
            " Layer (type)                Output Shape              Param #   \n",
            "=================================================================\n",
            " input_11 (InputLayer)       [(None, 32, 32, 3)]       0         \n",
            "                                                                 \n",
            " conv2d_30 (Conv2D)          (None, 32, 32, 16)        448       \n",
            "                                                                 \n",
            " max_pooling2d_30 (MaxPoolin  (None, 16, 16, 16)       0         \n",
            " g2D)                                                            \n",
            "                                                                 \n",
            " conv2d_31 (Conv2D)          (None, 16, 16, 64)        9280      \n",
            "                                                                 \n",
            " max_pooling2d_31 (MaxPoolin  (None, 8, 8, 64)         0         \n",
            " g2D)                                                            \n",
            "                                                                 \n",
            " conv2d_32 (Conv2D)          (None, 8, 8, 256)         147712    \n",
            "                                                                 \n",
            " max_pooling2d_32 (MaxPoolin  (None, 4, 4, 256)        0         \n",
            " g2D)                                                            \n",
            "                                                                 \n",
            " dropout_10 (Dropout)        (None, 4, 4, 256)         0         \n",
            "                                                                 \n",
            " flatten_2 (Flatten)         (None, 4096)              0         \n",
            "                                                                 \n",
            " dense (Dense)               (None, 4096)              16781312  \n",
            "                                                                 \n",
            " dense_1 (Dense)             (None, 4096)              16781312  \n",
            "                                                                 \n",
            " dense_2 (Dense)             (None, 10)                40970     \n",
            "                                                                 \n",
            "=================================================================\n",
            "Total params: 33,761,034\n",
            "Trainable params: 33,761,034\n",
            "Non-trainable params: 0\n",
            "_________________________________________________________________\n"
          ]
        }
      ]
    },
    {
      "cell_type": "code",
      "source": [
        "# Compile with learning rate 0.001\n",
        "model.compile(optimizer=tf.keras.optimizers.Adam(learning_rate=1e-3),\n",
        "              loss='sparse_categorical_crossentropy',metrics=['accuracy'])"
      ],
      "metadata": {
        "id": "asVch-Hc8rGr"
      },
      "execution_count": null,
      "outputs": []
    },
    {
      "cell_type": "code",
      "source": [
        "hist_dense = model.fit(\n",
        "  x_train, y_train, batch_size=128, validation_data=(x_test, y_test), epochs=20)"
      ],
      "metadata": {
        "colab": {
          "base_uri": "https://localhost:8080/"
        },
        "id": "UWFFDOzK8-zd",
        "outputId": "4b7044c3-9468-4400-c1b6-b0b68ada5257"
      },
      "execution_count": null,
      "outputs": [
        {
          "output_type": "stream",
          "name": "stdout",
          "text": [
            "Epoch 1/20\n",
            "391/391 [==============================] - 577s 1s/step - loss: 1.5419 - accuracy: 0.4365 - val_loss: 1.2514 - val_accuracy: 0.5393\n",
            "Epoch 2/20\n",
            "391/391 [==============================] - 588s 2s/step - loss: 1.0730 - accuracy: 0.6198 - val_loss: 1.0179 - val_accuracy: 0.6424\n",
            "Epoch 3/20\n",
            "391/391 [==============================] - 578s 1s/step - loss: 0.8943 - accuracy: 0.6851 - val_loss: 0.8990 - val_accuracy: 0.6907\n",
            "Epoch 4/20\n",
            "391/391 [==============================] - 572s 1s/step - loss: 0.7637 - accuracy: 0.7304 - val_loss: 0.8032 - val_accuracy: 0.7264\n",
            "Epoch 5/20\n",
            "391/391 [==============================] - 603s 2s/step - loss: 0.6406 - accuracy: 0.7732 - val_loss: 0.7646 - val_accuracy: 0.7398\n",
            "Epoch 6/20\n",
            "391/391 [==============================] - 609s 2s/step - loss: 0.5382 - accuracy: 0.8095 - val_loss: 0.7873 - val_accuracy: 0.7375\n",
            "Epoch 7/20\n",
            "391/391 [==============================] - 612s 2s/step - loss: 0.4357 - accuracy: 0.8466 - val_loss: 0.7645 - val_accuracy: 0.7526\n",
            "Epoch 8/20\n",
            "391/391 [==============================] - 567s 1s/step - loss: 0.3390 - accuracy: 0.8792 - val_loss: 0.8082 - val_accuracy: 0.7505\n",
            "Epoch 9/20\n",
            "391/391 [==============================] - 578s 1s/step - loss: 0.2674 - accuracy: 0.9044 - val_loss: 0.8666 - val_accuracy: 0.7521\n",
            "Epoch 10/20\n",
            "391/391 [==============================] - 587s 2s/step - loss: 0.2122 - accuracy: 0.9250 - val_loss: 0.9362 - val_accuracy: 0.7515\n",
            "Epoch 11/20\n",
            "391/391 [==============================] - 576s 1s/step - loss: 0.1757 - accuracy: 0.9392 - val_loss: 1.0085 - val_accuracy: 0.7468\n",
            "Epoch 12/20\n",
            "391/391 [==============================] - 581s 1s/step - loss: 0.1511 - accuracy: 0.9468 - val_loss: 0.9987 - val_accuracy: 0.7498\n",
            "Epoch 13/20\n",
            "391/391 [==============================] - 581s 1s/step - loss: 0.1289 - accuracy: 0.9550 - val_loss: 1.0766 - val_accuracy: 0.7516\n",
            "Epoch 14/20\n",
            "391/391 [==============================] - 561s 1s/step - loss: 0.1209 - accuracy: 0.9577 - val_loss: 1.0915 - val_accuracy: 0.7542\n",
            "Epoch 15/20\n",
            "391/391 [==============================] - 564s 1s/step - loss: 0.1012 - accuracy: 0.9658 - val_loss: 1.1559 - val_accuracy: 0.7465\n",
            "Epoch 16/20\n",
            "391/391 [==============================] - 562s 1s/step - loss: 0.1081 - accuracy: 0.9632 - val_loss: 1.1588 - val_accuracy: 0.7425\n",
            "Epoch 17/20\n",
            "391/391 [==============================] - 552s 1s/step - loss: 0.0855 - accuracy: 0.9703 - val_loss: 1.2318 - val_accuracy: 0.7397\n",
            "Epoch 18/20\n",
            "391/391 [==============================] - 549s 1s/step - loss: 0.0908 - accuracy: 0.9691 - val_loss: 1.2224 - val_accuracy: 0.7459\n",
            "Epoch 19/20\n",
            "391/391 [==============================] - 547s 1s/step - loss: 0.0866 - accuracy: 0.9699 - val_loss: 1.3367 - val_accuracy: 0.7404\n",
            "Epoch 20/20\n",
            "391/391 [==============================] - 550s 1s/step - loss: 0.0831 - accuracy: 0.9714 - val_loss: 1.2351 - val_accuracy: 0.7595\n"
          ]
        }
      ]
    },
    {
      "cell_type": "code",
      "source": [
        "# Plot training and test accuracy\n",
        "plt.plot(hist_dense.history['accuracy'], label='train_acc', color='C2')\n",
        "plt.plot(hist_dense.history['val_accuracy'], label='test_acc', color='C3')\n",
        "plt.legend()"
      ],
      "metadata": {
        "colab": {
          "base_uri": "https://localhost:8080/",
          "height": 365
        },
        "id": "DHnNGU_U9ob6",
        "outputId": "72e1fa09-7a37-495e-a886-07cf63a35666"
      },
      "execution_count": null,
      "outputs": [
        {
          "output_type": "execute_result",
          "data": {
            "text/plain": [
              "<matplotlib.legend.Legend at 0x7f363d31bf90>"
            ]
          },
          "metadata": {},
          "execution_count": 69
        },
        {
          "output_type": "display_data",
          "data": {
            "text/plain": [
              "<Figure size 576x396 with 1 Axes>"
            ],
            "image/png": "[encoded data removed]"
          },
          "metadata": {}
        }
      ]
    },
    {
      "cell_type": "code",
      "source": [
        "# Build a KDL model with Kronecker rank of 4\n",
        "# input layer\n",
        "i = Input(shape=x_train[0].shape)\n",
        "\n",
        "# Convolution Layer\n",
        "x = Conv2D(16, (3, 3), activation='relu', padding='same')(i)\n",
        "x = MaxPooling2D((2, 2))(x)\n",
        "\n",
        "x = Conv2D(64, (3, 3), activation='relu', padding='same')(x)\n",
        "x = MaxPooling2D((2, 2))(x)\n",
        "\n",
        "x = Conv2D(256, (3, 3), activation='relu', padding='same')(x)\n",
        "x = MaxPooling2D((2, 2))(x)\n",
        "\n",
        "# Dropout Layer\n",
        "x = Dropout(0.2)(x)\n",
        "x = Reshape((64,64))(x)\n",
        " \n",
        "# KDL's (Kronecker rank 4)\n",
        "x1 = KDLeftLayer(64, activation='relu')(x)\n",
        "x1 = KDRightLayer(64)(x1)\n",
        "\n",
        "x2 = KDRightLayer(64, activation='relu',init_factor=1e-15)(x)\n",
        "x2 = KDLeftLayer(64,init_factor=1e-15)(x2)\n",
        "\n",
        "x3 = KDLeftLayer(64, activation='relu',init_factor=1e-15)(x) \n",
        "x3 = KDRightLayer(64,init_factor=1e-15)(x3)\n",
        "\n",
        "x4 = KDLeftLayer(64, activation='relu',init_factor=1e-15)(x)\n",
        "x4 = KDRightLayer(64,init_factor=1e-15)(x4)\n",
        " \n",
        "x = Add()([x1,x2,x3,x4]) # Combine layers before activation\n",
        "x = ReLU()(x)\n",
        "\n",
        "x1 = KDLeftLayer(64, activation='relu')(x)\n",
        "x1 = KDRightLayer(64)(x1)\n",
        "\n",
        "x2 = KDRightLayer(64, activation='relu',init_factor=1e-15)(x)\n",
        "x2 = KDLeftLayer(64,init_factor=1e-15)(x2)\n",
        "\n",
        "x3 = KDLeftLayer(64, activation='relu',init_factor=1e-15)(x) \n",
        "x3 = KDRightLayer(64,init_factor=1e-15)(x3)\n",
        "\n",
        "x4 = KDLeftLayer(64, activation='relu',init_factor=1e-15)(x)\n",
        "x4 = KDRightLayer(64,init_factor=1e-15)(x4)\n",
        " \n",
        "x = Add()([x1,x2,x3,x4]) \n",
        "x = ReLU()(x)\n",
        "\n",
        "# Another set of KDL's for output (Also Kronecker rank 4)\n",
        "x1 = KDLeftLayer(2, activation='relu')(x)\n",
        "x1 = KDRightLayer(5)(x1)\n",
        "\n",
        "x2 = KDRightLayer(5, activation='relu',init_factor=1e-15)(x)\n",
        "x2 = KDLeftLayer(2,init_factor=1e-15)(x2)\n",
        "\n",
        "x3 = KDLeftLayer(2, activation='relu',init_factor=1e-15)(x)\n",
        "x3 = KDRightLayer(5,init_factor=1e-15)(x3)\n",
        "\n",
        "x4 = KDLeftLayer(2, activation='relu',init_factor=1e-15)(x)\n",
        "x4 = KDRightLayer(5,init_factor=1e-15)(x4)\n",
        "\n",
        "x = Add()([x1,x2,x3,x4])\n",
        "x = Flatten()(x)\n",
        "x = Softmax()(x)\n",
        "model = Model(i, x)\n",
        " \n",
        "# model description\n",
        "model.summary()"
      ],
      "metadata": {
        "colab": {
          "base_uri": "https://localhost:8080/"
        },
        "id": "j2itObJZAXbz",
        "outputId": "6341a8bb-44d2-438f-cc2f-2d37a6ddba16"
      },
      "execution_count": null,
      "outputs": [
        {
          "output_type": "stream",
          "name": "stdout",
          "text": [
            "Model: \"model_3\"\n",
            "__________________________________________________________________________________________________\n",
            " Layer (type)                   Output Shape         Param #     Connected to                     \n",
            "==================================================================================================\n",
            " input_12 (InputLayer)          [(None, 32, 32, 3)]  0           []                               \n",
            "                                                                                                  \n",
            " conv2d_33 (Conv2D)             (None, 32, 32, 16)   448         ['input_12[0][0]']               \n",
            "                                                                                                  \n",
            " max_pooling2d_33 (MaxPooling2D  (None, 16, 16, 16)  0           ['conv2d_33[0][0]']              \n",
            " )                                                                                                \n",
            "                                                                                                  \n",
            " conv2d_34 (Conv2D)             (None, 16, 16, 64)   9280        ['max_pooling2d_33[0][0]']       \n",
            "                                                                                                  \n",
            " max_pooling2d_34 (MaxPooling2D  (None, 8, 8, 64)    0           ['conv2d_34[0][0]']              \n",
            " )                                                                                                \n",
            "                                                                                                  \n",
            " conv2d_35 (Conv2D)             (None, 8, 8, 256)    147712      ['max_pooling2d_34[0][0]']       \n",
            "                                                                                                  \n",
            " max_pooling2d_35 (MaxPooling2D  (None, 4, 4, 256)   0           ['conv2d_35[0][0]']              \n",
            " )                                                                                                \n",
            "                                                                                                  \n",
            " dropout_11 (Dropout)           (None, 4, 4, 256)    0           ['max_pooling2d_35[0][0]']       \n",
            "                                                                                                  \n",
            " reshape_10 (Reshape)           (None, 64, 64)       0           ['dropout_11[0][0]']             \n",
            "                                                                                                  \n",
            " kd_left_layer_14 (KDLeftLayer)  (None, 64, 64)      8192        ['reshape_10[0][0]']             \n",
            "                                                                                                  \n",
            " kd_right_layer_15 (KDRightLaye  (None, 64, 64)      8192        ['reshape_10[0][0]']             \n",
            " r)                                                                                               \n",
            "                                                                                                  \n",
            " kd_left_layer_16 (KDLeftLayer)  (None, 64, 64)      8192        ['reshape_10[0][0]']             \n",
            "                                                                                                  \n",
            " kd_left_layer_17 (KDLeftLayer)  (None, 64, 64)      8192        ['reshape_10[0][0]']             \n",
            "                                                                                                  \n",
            " kd_right_layer_14 (KDRightLaye  (None, 64, 64)      8192        ['kd_left_layer_14[0][0]']       \n",
            " r)                                                                                               \n",
            "                                                                                                  \n",
            " kd_left_layer_15 (KDLeftLayer)  (None, 64, 64)      8192        ['kd_right_layer_15[0][0]']      \n",
            "                                                                                                  \n",
            " kd_right_layer_16 (KDRightLaye  (None, 64, 64)      8192        ['kd_left_layer_16[0][0]']       \n",
            " r)                                                                                               \n",
            "                                                                                                  \n",
            " kd_right_layer_17 (KDRightLaye  (None, 64, 64)      8192        ['kd_left_layer_17[0][0]']       \n",
            " r)                                                                                               \n",
            "                                                                                                  \n",
            " add (Add)                      (None, 64, 64)       0           ['kd_right_layer_14[0][0]',      \n",
            "                                                                  'kd_left_layer_15[0][0]',       \n",
            "                                                                  'kd_right_layer_16[0][0]',      \n",
            "                                                                  'kd_right_layer_17[0][0]']      \n",
            "                                                                                                  \n",
            " re_lu (ReLU)                   (None, 64, 64)       0           ['add[0][0]']                    \n",
            "                                                                                                  \n",
            " kd_left_layer_18 (KDLeftLayer)  (None, 64, 64)      8192        ['re_lu[0][0]']                  \n",
            "                                                                                                  \n",
            " kd_right_layer_19 (KDRightLaye  (None, 64, 64)      8192        ['re_lu[0][0]']                  \n",
            " r)                                                                                               \n",
            "                                                                                                  \n",
            " kd_left_layer_20 (KDLeftLayer)  (None, 64, 64)      8192        ['re_lu[0][0]']                  \n",
            "                                                                                                  \n",
            " kd_left_layer_21 (KDLeftLayer)  (None, 64, 64)      8192        ['re_lu[0][0]']                  \n",
            "                                                                                                  \n",
            " kd_right_layer_18 (KDRightLaye  (None, 64, 64)      8192        ['kd_left_layer_18[0][0]']       \n",
            " r)                                                                                               \n",
            "                                                                                                  \n",
            " kd_left_layer_19 (KDLeftLayer)  (None, 64, 64)      8192        ['kd_right_layer_19[0][0]']      \n",
            "                                                                                                  \n",
            " kd_right_layer_20 (KDRightLaye  (None, 64, 64)      8192        ['kd_left_layer_20[0][0]']       \n",
            " r)                                                                                               \n",
            "                                                                                                  \n",
            " kd_right_layer_21 (KDRightLaye  (None, 64, 64)      8192        ['kd_left_layer_21[0][0]']       \n",
            " r)                                                                                               \n",
            "                                                                                                  \n",
            " add_1 (Add)                    (None, 64, 64)       0           ['kd_right_layer_18[0][0]',      \n",
            "                                                                  'kd_left_layer_19[0][0]',       \n",
            "                                                                  'kd_right_layer_20[0][0]',      \n",
            "                                                                  'kd_right_layer_21[0][0]']      \n",
            "                                                                                                  \n",
            " re_lu_1 (ReLU)                 (None, 64, 64)       0           ['add_1[0][0]']                  \n",
            "                                                                                                  \n",
            " kd_left_layer_22 (KDLeftLayer)  (None, 2, 64)       256         ['re_lu_1[0][0]']                \n",
            "                                                                                                  \n",
            " kd_right_layer_23 (KDRightLaye  (None, 64, 5)       640         ['re_lu_1[0][0]']                \n",
            " r)                                                                                               \n",
            "                                                                                                  \n",
            " kd_left_layer_24 (KDLeftLayer)  (None, 2, 64)       256         ['re_lu_1[0][0]']                \n",
            "                                                                                                  \n",
            " kd_left_layer_25 (KDLeftLayer)  (None, 2, 64)       256         ['re_lu_1[0][0]']                \n",
            "                                                                                                  \n",
            " kd_right_layer_22 (KDRightLaye  (None, 2, 5)        330         ['kd_left_layer_22[0][0]']       \n",
            " r)                                                                                               \n",
            "                                                                                                  \n",
            " kd_left_layer_23 (KDLeftLayer)  (None, 2, 5)        138         ['kd_right_layer_23[0][0]']      \n",
            "                                                                                                  \n",
            " kd_right_layer_24 (KDRightLaye  (None, 2, 5)        330         ['kd_left_layer_24[0][0]']       \n",
            " r)                                                                                               \n",
            "                                                                                                  \n",
            " kd_right_layer_25 (KDRightLaye  (None, 2, 5)        330         ['kd_left_layer_25[0][0]']       \n",
            " r)                                                                                               \n",
            "                                                                                                  \n",
            " add_2 (Add)                    (None, 2, 5)         0           ['kd_right_layer_22[0][0]',      \n",
            "                                                                  'kd_left_layer_23[0][0]',       \n",
            "                                                                  'kd_right_layer_24[0][0]',      \n",
            "                                                                  'kd_right_layer_25[0][0]']      \n",
            "                                                                                                  \n",
            " flatten_3 (Flatten)            (None, 10)           0           ['add_2[0][0]']                  \n",
            "                                                                                                  \n",
            " softmax_2 (Softmax)            (None, 10)           0           ['flatten_3[0][0]']              \n",
            "                                                                                                  \n",
            "==================================================================================================\n",
            "Total params: 291,048\n",
            "Trainable params: 291,048\n",
            "Non-trainable params: 0\n",
            "__________________________________________________________________________________________________\n"
          ]
        }
      ]
    },
    {
      "cell_type": "code",
      "source": [
        "# Compile\n",
        "model.compile(optimizer=tf.keras.optimizers.Adam(learning_rate=1e-3),\n",
        "              loss='sparse_categorical_crossentropy',\n",
        "              metrics=['accuracy'])"
      ],
      "metadata": {
        "id": "a7EfX8CBBgX8"
      },
      "execution_count": null,
      "outputs": []
    },
    {
      "cell_type": "code",
      "source": [
        "hist_KDL4 = model.fit(\n",
        "  x_train, y_train, batch_size=128, validation_data=(x_test, y_test), epochs=20)"
      ],
      "metadata": {
        "colab": {
          "base_uri": "https://localhost:8080/"
        },
        "id": "2jN5KdMRBovS",
        "outputId": "f2f9fff9-40e8-4063-a34f-9bd28cf9d3b7"
      },
      "execution_count": null,
      "outputs": [
        {
          "output_type": "stream",
          "name": "stdout",
          "text": [
            "Epoch 1/20\n",
            "391/391 [==============================] - 204s 514ms/step - loss: 1.9539 - accuracy: 0.2734 - val_loss: 1.5880 - val_accuracy: 0.4086\n",
            "Epoch 2/20\n",
            "391/391 [==============================] - 198s 506ms/step - loss: 1.4801 - accuracy: 0.4568 - val_loss: 1.3074 - val_accuracy: 0.5190\n",
            "Epoch 3/20\n",
            "391/391 [==============================] - 198s 507ms/step - loss: 1.2813 - accuracy: 0.5362 - val_loss: 1.2207 - val_accuracy: 0.5546\n",
            "Epoch 4/20\n",
            "391/391 [==============================] - 200s 510ms/step - loss: 1.1421 - accuracy: 0.5894 - val_loss: 1.0593 - val_accuracy: 0.6187\n",
            "Epoch 5/20\n",
            "391/391 [==============================] - 199s 510ms/step - loss: 1.0449 - accuracy: 0.6258 - val_loss: 0.9873 - val_accuracy: 0.6473\n",
            "Epoch 6/20\n",
            "391/391 [==============================] - 202s 516ms/step - loss: 0.9548 - accuracy: 0.6599 - val_loss: 0.9817 - val_accuracy: 0.6503\n",
            "Epoch 7/20\n",
            "391/391 [==============================] - 201s 514ms/step - loss: 0.8957 - accuracy: 0.6828 - val_loss: 0.9178 - val_accuracy: 0.6724\n",
            "Epoch 8/20\n",
            "391/391 [==============================] - 202s 516ms/step - loss: 0.8432 - accuracy: 0.7029 - val_loss: 0.8814 - val_accuracy: 0.6866\n",
            "Epoch 9/20\n",
            "391/391 [==============================] - 203s 520ms/step - loss: 0.7946 - accuracy: 0.7173 - val_loss: 0.8693 - val_accuracy: 0.6960\n",
            "Epoch 10/20\n",
            "391/391 [==============================] - 203s 519ms/step - loss: 0.7458 - accuracy: 0.7349 - val_loss: 0.8240 - val_accuracy: 0.7114\n",
            "Epoch 11/20\n",
            "391/391 [==============================] - 203s 519ms/step - loss: 0.7125 - accuracy: 0.7491 - val_loss: 0.8224 - val_accuracy: 0.7176\n",
            "Epoch 12/20\n",
            "391/391 [==============================] - 207s 530ms/step - loss: 0.6695 - accuracy: 0.7648 - val_loss: 0.7876 - val_accuracy: 0.7223\n",
            "Epoch 13/20\n",
            "391/391 [==============================] - 205s 524ms/step - loss: 0.6390 - accuracy: 0.7778 - val_loss: 0.7924 - val_accuracy: 0.7326\n",
            "Epoch 14/20\n",
            "391/391 [==============================] - 206s 528ms/step - loss: 0.6092 - accuracy: 0.7841 - val_loss: 0.7789 - val_accuracy: 0.7371\n",
            "Epoch 15/20\n",
            "391/391 [==============================] - 206s 526ms/step - loss: 0.5850 - accuracy: 0.7926 - val_loss: 0.7717 - val_accuracy: 0.7386\n",
            "Epoch 16/20\n",
            "391/391 [==============================] - 207s 530ms/step - loss: 0.5498 - accuracy: 0.8048 - val_loss: 0.7566 - val_accuracy: 0.7456\n",
            "Epoch 17/20\n",
            "391/391 [==============================] - 209s 535ms/step - loss: 0.5273 - accuracy: 0.8131 - val_loss: 0.7494 - val_accuracy: 0.7469\n",
            "Epoch 18/20\n",
            "391/391 [==============================] - 211s 540ms/step - loss: 0.5027 - accuracy: 0.8219 - val_loss: 0.7733 - val_accuracy: 0.7436\n",
            "Epoch 19/20\n",
            "391/391 [==============================] - 214s 547ms/step - loss: 0.4707 - accuracy: 0.8324 - val_loss: 0.7672 - val_accuracy: 0.7460\n",
            "Epoch 20/20\n",
            "391/391 [==============================] - 217s 555ms/step - loss: 0.4565 - accuracy: 0.8370 - val_loss: 0.7834 - val_accuracy: 0.7519\n"
          ]
        }
      ]
    },
    {
      "cell_type": "code",
      "source": [
        "# Plot training and test accuracy\n",
        "plt.plot(hist_KDL4.history['accuracy'], label='train_acc', color='C4')\n",
        "plt.plot(hist_KDL4.history['val_accuracy'], label='test_acc', color='C5')\n",
        "plt.legend()"
      ],
      "metadata": {
        "colab": {
          "base_uri": "https://localhost:8080/",
          "height": 108
        },
        "id": "_ohSMGTYBrrg",
        "outputId": "d62655c1-dd80-4d3b-894e-cfdb66924543"
      },
      "execution_count": null,
      "outputs": [
        {
          "output_type": "execute_result",
          "data": {
            "text/plain": [
              "<matplotlib.legend.Legend at 0x7f363c2ed510>"
            ]
          },
          "metadata": {},
          "execution_count": 73
        },
        {
          "output_type": "display_data",
          "data": {
            "text/plain": [
              "<Figure size 576x396 with 1 Axes>"
            ],
            "image/png": "[encoded data removed]"
          },
          "metadata": {}
        }
      ]
    },
    {
      "cell_type": "code",
      "source": [
        "# Plot test accuracy comparison\n",
        "plt.plot(hist_KDL.history['val_accuracy'], label='KDL_acc', color='C1')\n",
        "plt.plot(hist_KDL4.history['val_accuracy'], label='KDL4_acc', color='C5')\n",
        "plt.plot(hist_dense.history['val_accuracy'], label='Dense_acc', color='C3')\n",
        "plt.legend()"
      ],
      "metadata": {
        "colab": {
          "base_uri": "https://localhost:8080/",
          "height": 108
        },
        "id": "orjKqSFWLRJW",
        "outputId": "b0132f68-17a1-4629-939e-79558146883c"
      },
      "execution_count": null,
      "outputs": [
        {
          "output_type": "execute_result",
          "data": {
            "text/plain": [
              "<matplotlib.legend.Legend at 0x7f363cc87910>"
            ]
          },
          "metadata": {},
          "execution_count": 74
        },
        {
          "output_type": "display_data",
          "data": {
            "text/plain": [
              "<Figure size 576x396 with 1 Axes>"
            ],
            "image/png": "[encoded data removed]"
          },
          "metadata": {}
        }
      ]
    }
  ]
}